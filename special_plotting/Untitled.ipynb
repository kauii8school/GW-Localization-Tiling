{
 "cells": [
  {
   "cell_type": "code",
   "execution_count": 1,
   "metadata": {},
   "outputs": [],
   "source": [
    "from astropy.coordinates import SkyCoord\n",
    "from astropy.io import fits\n",
    "from astropy import units as u\n",
    "import healpy as hp\n",
    "from ligo.skymap.io import fits\n",
    "import ligo.skymap.plot\n",
    "from ligo.skymap.postprocess import find_greedy_credible_levels\n",
    "from matplotlib.path import Path\n",
    "from matplotlib import pyplot as plt\n",
    "import numpy as np"
   ]
  },
  {
   "cell_type": "code",
   "execution_count": 2,
   "metadata": {},
   "outputs": [],
   "source": [
    "m, metadata = fits.read_sky_map('/home/n/Documents/Research/GW-Localization-Tiling/data/design_bns_astro/130.fits', nest=None)\n",
    "nside = hp.npix2nside(len(m))\n",
    "ipix = np.argmax(m)\n",
    "lon, lat = hp.pix2ang(nside, ipix, nest=True, lonlat=True)*u.deg\n",
    "# Optional: recenter the map to center skymap in inset:\n",
    "# lat -= 1*u.deg\n",
    "# lon += 3.5*u.deg\n",
    "center = SkyCoord(lon, lat)"
   ]
  },
  {
   "cell_type": "code",
   "execution_count": null,
   "metadata": {},
   "outputs": [],
   "source": []
  }
 ],
 "metadata": {
  "kernelspec": {
   "display_name": "Python 3",
   "language": "python",
   "name": "python3"
  },
  "language_info": {
   "codemirror_mode": {
    "name": "ipython",
    "version": 3
   },
   "file_extension": ".py",
   "mimetype": "text/x-python",
   "name": "python",
   "nbconvert_exporter": "python",
   "pygments_lexer": "ipython3",
   "version": "3.7.6"
  }
 },
 "nbformat": 4,
 "nbformat_minor": 4
}
